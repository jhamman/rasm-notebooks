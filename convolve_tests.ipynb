{
 "metadata": {
  "name": "convolve_tests"
 },
 "nbformat": 3,
 "nbformat_minor": 0,
 "worksheets": [
  {
   "cells": [
    {
     "cell_type": "markdown",
     "metadata": {},
     "source": [
      "#Streamflow Routing Convolution\n",
      "This script executes a simple convolution between a unit hydrograph grid and and a flux grid of the same size.\n",
      "\n",
      "##End product goals:\n",
      "1. Read/Write in netcdf\n",
      "2. Save state\n",
      "3. Speed"
     ]
    },
    {
     "cell_type": "code",
     "collapsed": false,
     "input": [
      "from netCDF4 import Dataset, num2date, date2num\n",
      "import numpy as np\n",
      "import time as tm\n",
      "import argparse\n",
      "import os, glob\n",
      "from convolve import read_netcdf\n",
      "import pandas as pd\n",
      "\n",
      "re = 6.37122e6"
     ],
     "language": "python",
     "metadata": {},
     "outputs": [],
     "prompt_number": 1
    },
    {
     "cell_type": "code",
     "collapsed": false,
     "input": [
      "gridFile = '/raid/jhamman/RASM_masks/domain.lnd.wr50a_ar9v4.100920.nc'\n",
      "GridData,GridAttrs,GridGlobs = read_netcdf(gridFile)\n",
      "\n",
      "area = GridData['area']*re*re #*4/3*np.pi*re*re"
     ],
     "language": "python",
     "metadata": {},
     "outputs": [],
     "prompt_number": 2
    },
    {
     "cell_type": "code",
     "collapsed": false,
     "input": [
      "def convolve(flux,uh,area,frac,inds):\n",
      "    q=np.zeros(len(uh)+len(flux)-1)\n",
      "    for y,x in inds:\n",
      "        q += np.convolve(flux[:,y,x],uh[:,y,x])*area[y,x]*frac[y,x]\n",
      "    return q\n",
      "        "
     ],
     "language": "python",
     "metadata": {},
     "outputs": [],
     "prompt_number": 3
    },
    {
     "cell_type": "code",
     "collapsed": false,
     "input": [
      "def find_nearest(array,value):\n",
      "    \"\"\" Find the index location in (array) with value nearest to (value)\"\"\"\n",
      "    idx = (np.abs(array-value)).argmin()\n",
      "    return idx"
     ],
     "language": "python",
     "metadata": {},
     "outputs": [],
     "prompt_number": 4
    },
    {
     "cell_type": "code",
     "collapsed": false,
     "input": [
      "#paths\n",
      "fluxPath = '/raid/jhamman/RASM_results/r35RB1a/hourly_Qflux/r35RB1a.vic.hi.*'\n",
      "uhPath = '/raid/jhamman/temp_uh_files/run3_stations/remaped/*'\n",
      "\n",
      "#Get a list of flux files...(i.e. r35RB1a.vic.hi.1995-06-28-07200.nc)\n",
      "fluxlist = sorted(glob.glob(fluxPath))\n",
      "#Get a list of points to route to\n",
      "pointlist = sorted(glob.glob(uhPath))"
     ],
     "language": "python",
     "metadata": {},
     "outputs": [],
     "prompt_number": 5
    },
    {
     "cell_type": "code",
     "collapsed": false,
     "input": [
      "data = {}\n",
      "times = {}\n",
      "inds = {}\n",
      "count = 0\n",
      "lons = np.zeros(len(pointlist))\n",
      "lats = np.zeros(len(pointlist))\n",
      "\n",
      "for i,fFile in enumerate(fluxlist):\n",
      "    print 'Starting',fFile\n",
      "    print 'Routing to',len(pointlist),'points'\n",
      "    flf = Dataset(fFile,'r')\n",
      "    time = flf.variables['time'][:]\n",
      "    flux = flf.variables['flux'][:]\n",
      "    flf.close()\n",
      "    count += len(time)\n",
      "    for j,uhFile in enumerate(pointlist):\n",
      "        uhf = Dataset(uhFile,'r')\n",
      "        uh = uhf.variables['unit_hydrograph'][:]\n",
      "        frac = uhf.variables['fraction'][:]\n",
      "                \n",
      "        if i==0:\n",
      "            inds[j] = transpose(np.nonzero(frac))\n",
      "            lons[j] = uhf.outlet_lon\n",
      "            lats[j] = uhf.outlet_lat\n",
      "        uhf.close()\n",
      "        if j==0:\n",
      "            data[i] = np.zeros((len(flux)+len(uh)-1,len(pointlist)))\n",
      "            td = time[-1]-time[-2]\n",
      "            times[i] = [time[0]+n*td for n in range(len(time)+len(uh)-1)]\n",
      "        if j==0 and i==0:\n",
      "            start=time[0]\n",
      "        \n",
      "        data[i][:,j] = convolve(flux,uh,area,frac,inds[j])"
     ],
     "language": "python",
     "metadata": {},
     "outputs": [
      {
       "output_type": "stream",
       "stream": "stdout",
       "text": [
        "Starting /raid/jhamman/RASM_results/r35RB1a/hourly_Qflux/r35RB1a.vic.hi.1989.nc\n",
        "Routing to 8 points\n",
        "Starting"
       ]
      },
      {
       "output_type": "stream",
       "stream": "stdout",
       "text": [
        " /raid/jhamman/RASM_results/r35RB1a/hourly_Qflux/r35RB1a.vic.hi.1990.nc\n",
        "Routing to 8 points\n",
        "Starting"
       ]
      },
      {
       "output_type": "stream",
       "stream": "stdout",
       "text": [
        " /raid/jhamman/RASM_results/r35RB1a/hourly_Qflux/r35RB1a.vic.hi.1991.nc\n",
        "Routing to 8 points\n",
        "Starting"
       ]
      },
      {
       "output_type": "stream",
       "stream": "stdout",
       "text": [
        " /raid/jhamman/RASM_results/r35RB1a/hourly_Qflux/r35RB1a.vic.hi.1992.nc\n",
        "Routing to 8 points\n",
        "Starting"
       ]
      },
      {
       "output_type": "stream",
       "stream": "stdout",
       "text": [
        " /raid/jhamman/RASM_results/r35RB1a/hourly_Qflux/r35RB1a.vic.hi.1993.nc\n",
        "Routing to 8 points\n",
        "Starting"
       ]
      },
      {
       "output_type": "stream",
       "stream": "stdout",
       "text": [
        " /raid/jhamman/RASM_results/r35RB1a/hourly_Qflux/r35RB1a.vic.hi.1994.nc\n",
        "Routing to 8 points\n",
        "Starting"
       ]
      },
      {
       "output_type": "stream",
       "stream": "stdout",
       "text": [
        " /raid/jhamman/RASM_results/r35RB1a/hourly_Qflux/r35RB1a.vic.hi.1995.nc\n",
        "Routing to 8 points\n",
        "Starting"
       ]
      },
      {
       "output_type": "stream",
       "stream": "stdout",
       "text": [
        " /raid/jhamman/RASM_results/r35RB1a/hourly_Qflux/r35RB1a.vic.hi.1996.nc\n",
        "Routing to 8 points\n",
        "Starting"
       ]
      },
      {
       "output_type": "stream",
       "stream": "stdout",
       "text": [
        " /raid/jhamman/RASM_results/r35RB1a/hourly_Qflux/r35RB1a.vic.hi.1997.nc\n",
        "Routing to 8 points\n",
        "Starting"
       ]
      },
      {
       "output_type": "stream",
       "stream": "stdout",
       "text": [
        " /raid/jhamman/RASM_results/r35RB1a/hourly_Qflux/r35RB1a.vic.hi.1998.nc\n",
        "Routing to 8 points\n",
        "Starting"
       ]
      },
      {
       "output_type": "stream",
       "stream": "stdout",
       "text": [
        " /raid/jhamman/RASM_results/r35RB1a/hourly_Qflux/r35RB1a.vic.hi.1999.nc\n",
        "Routing to 8 points\n",
        "Starting"
       ]
      },
      {
       "output_type": "stream",
       "stream": "stdout",
       "text": [
        " /raid/jhamman/RASM_results/r35RB1a/hourly_Qflux/r35RB1a.vic.hi.2000.nc\n",
        "Routing to 8 points\n",
        "Starting"
       ]
      },
      {
       "output_type": "stream",
       "stream": "stdout",
       "text": [
        " /raid/jhamman/RASM_results/r35RB1a/hourly_Qflux/r35RB1a.vic.hi.2001.nc\n",
        "Routing to 8 points\n",
        "Starting"
       ]
      },
      {
       "output_type": "stream",
       "stream": "stdout",
       "text": [
        " /raid/jhamman/RASM_results/r35RB1a/hourly_Qflux/r35RB1a.vic.hi.2002.nc\n",
        "Routing to 8 points\n",
        "Starting"
       ]
      },
      {
       "output_type": "stream",
       "stream": "stdout",
       "text": [
        " /raid/jhamman/RASM_results/r35RB1a/hourly_Qflux/r35RB1a.vic.hi.2003.nc\n",
        "Routing to 8 points\n",
        "Starting"
       ]
      },
      {
       "output_type": "stream",
       "stream": "stdout",
       "text": [
        " /raid/jhamman/RASM_results/r35RB1a/hourly_Qflux/r35RB1a.vic.hi.2004.nc\n",
        "Routing to 8 points\n"
       ]
      }
     ],
     "prompt_number": 44
    },
    {
     "cell_type": "code",
     "collapsed": false,
     "input": [
      "# make a new flow table of the full length\n",
      "stop = times[i][-1]\n",
      "outTimes = np.arange(start,stop+td,td)\n",
      "outFlows = np.zeros((len(outTimes),len(pointlist)))\n"
     ],
     "language": "python",
     "metadata": {},
     "outputs": [],
     "prompt_number": 45
    },
    {
     "cell_type": "code",
     "collapsed": false,
     "input": [
      "# loop over all all periods, find the indicies, and add the flows to the \"flows\" table\n",
      "for i in xrange(len(fluxlist)):\n",
      "    s = times[i][0]; e = times[i][-1]\n",
      "    si = find_nearest(outTimes,s); ei=find_nearest(outTimes,e)+1\n",
      "    outFlows[si:ei,:] += data[i]\n"
     ],
     "language": "python",
     "metadata": {},
     "outputs": [
      {
       "output_type": "stream",
       "stream": "stdout",
       "text": [
        "0 (135526, 8) (4126, 8) (4126, 8) 0 4126\n",
        "1 (135526, 8) (9959, 8) (9959, 8) 2927 12886\n",
        "2 (135526, 8) (9959, 8) (9959, 8) 11687 21646\n",
        "3 (135526, 8) (9959, 8) (9959, 8) 20447 30406\n",
        "4 (135526, 8) (9959, 8) (9959, 8) 29207 39166\n",
        "5 (135526, 8) (9959, 8) (9959, 8) 37967 47926\n",
        "6 (135526, 8) (9959, 8) (9959, 8) 46727 56686\n",
        "7 (135526, 8) (9959, 8) (9959, 8) 55487 65446\n",
        "8 (135526, 8) (9959, 8) (9959, 8) 64247 74206\n",
        "9 (135526, 8) (9959, 8) (9959, 8) 73007 82966\n",
        "10 (135526, 8) (9959, 8) (9959, 8) 81767 91726\n",
        "11 (135526, 8) (9959, 8) (9959, 8) 90527 100486\n",
        "12 (135526, 8) (9959, 8) (9959, 8) 99287 109246\n",
        "13 (135526, 8) (9959, 8) (9959, 8) 108047 118006\n",
        "14 (135526, 8) (9959, 8) (9959, 8) 116807 126766\n",
        "15 (135526, 8) (9959, 8) (9959, 8) 125567 135526\n"
       ]
      }
     ],
     "prompt_number": 46
    },
    {
     "cell_type": "code",
     "collapsed": false,
     "input": [
      "for i in xrange(8):\n",
      "    plot(outTimes,outFlows[:,i])"
     ],
     "language": "python",
     "metadata": {},
     "outputs": [
      {
       "output_type": "display_data",
       "png": "[encoded data removed]"
      }
     ],
     "prompt_number": 47
    },
    {
     "cell_type": "code",
     "collapsed": false,
     "input": [
      "# Write out to netcdf\n",
      "f = Dataset('stations.nc', 'w', format='NETCDF4_CLASSIC')\n",
      "\n",
      "# set dimensions\n",
      "time = f.createDimension('time', None)\n",
      "points = f.createDimension('point', len(pointlist))\n",
      "\n",
      "# initialize variables\n",
      "time = f.createVariable('time','f8',('time',))\n",
      "lon = f.createVariable('longitudes','f8',('point',))\n",
      "lat = f.createVariable('latitudes','f8',('point',))\n",
      "flow = f.createVariable('Streamflow','f8',('time','point',))\n",
      "\n",
      "# write attributes for netcdf\n",
      "f.description = 'Streamflow.'\n",
      "f.history = 'Created ' + tm.ctime(tm.time())\n",
      "f.source = 'Streamflow program - convolve.py'\n",
      "\n",
      "lat.standard_name = \"latitude\"\n",
      "lat.long_name = \"latitude of grid cell center\"\n",
      "lat.units = \"degrees_north\"\n",
      "\n",
      "lon.standard_name = \"longitude\"\n",
      "lon.long_name = \"longitude of grid cell center\"\n",
      "lon.units = \"degrees_east\"\n",
      "\n",
      "time.units = 'days since 0000-1-1 0:0:0'\n",
      "time.calendar = 'noleap'\n",
      "time.longname = 'time'\n",
      "time.type_prefered = 'double'\n",
      "\n",
      "flow.description = 'Streamflow'\n",
      "flow.units = 'm^3/s'\n",
      "\n",
      "flow[:,:] = outFlows\n",
      "time[:] = outTimes\n",
      "lon[:] = lons\n",
      "lat[:] = lats\n",
      "\n",
      "f.close()\n"
     ],
     "language": "python",
     "metadata": {},
     "outputs": [],
     "prompt_number": 48
    }
   ],
   "metadata": {}
  }
 ]
}