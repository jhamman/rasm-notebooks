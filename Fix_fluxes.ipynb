{
 "metadata": {
  "name": "Fix_fluxes"
 },
 "nbformat": 3,
 "nbformat_minor": 0,
 "worksheets": [
  {
   "cells": [
    {
     "cell_type": "code",
     "collapsed": false,
     "input": [
      "from netCDF4 import Dataset, num2date, date2num\n",
      "import numpy as np\n",
      "import time as tm\n",
      "import glob,os,sys\n",
      "import re\n",
      "import datetime"
     ],
     "language": "python",
     "metadata": {},
     "outputs": [],
     "prompt_number": 80
    },
    {
     "cell_type": "code",
     "collapsed": false,
     "input": [
      "def split_fname(fname):\n",
      "    temp = re.split('\\W+',fname)\n",
      "    year = int(temp[-5])\n",
      "    month = int(temp[-4])\n",
      "    day = int(temp[-3])\n",
      "    hour = int(temp[-2])/3600\n",
      "    return datetime.datetime(year,month,day,hour)\n"
     ],
     "language": "python",
     "metadata": {},
     "outputs": [],
     "prompt_number": 47
    },
    {
     "cell_type": "code",
     "collapsed": false,
     "input": [
      "for year in xrange(1989,2005):\n",
      "    fluxPath = '/raid/jhamman/RASM_results/r35RB1a/hourly_Qflux/hourly_Qflux/r35RB1a.vic.hi.'+str(year)\n",
      "\n",
      "    #Get a list of flux files..(i.e. r35RB1a.vic.hi.1995-06-28-07200.nc)\n",
      "    fluxlist = sorted(glob.glob(fluxPath+'*'))\n",
      "    dates=[]\n",
      "    for fname in fluxlist:\n",
      "        dates.append(split_fname(fname))\n",
      "        \n",
      "    outfile = fluxPath+'.nc'\n",
      "    flux = np.zeros((len(fluxlist),205,275))\n",
      "    print 'starting',outfile, 'expecting to comibine',len(dates),'files'\n",
      "    for i,f in enumerate(fluxlist):\n",
      "        flf = Dataset(f,mode='r')\n",
      "        flux[i,:,:] = flf.variables['Runoff'][:]+flf.variables['Baseflow'][:]\n",
      "        flf.close()\n",
      "    \n",
      "    # write out new netcdf file\n",
      "    times = date2num(dates, \"days since 0000-1-1 0:0:0\", calendar='noleap')\n",
      "    write_netcdf(outfile,flux,times)\n",
      "    print 'done with ',year\n",
      "        \n",
      "    "
     ],
     "language": "python",
     "metadata": {},
     "outputs": [
      {
       "output_type": "stream",
       "stream": "stdout",
       "text": [
        "starting /raid/jhamman/RASM_results/r35RB1a/hourly_Qflux/hourly_Qflux/r35RB1a.vic.hi.1989.nc expecting to comibin 2927 files\n",
        "done with "
       ]
      },
      {
       "output_type": "stream",
       "stream": "stdout",
       "text": [
        " 1989\n",
        "starting"
       ]
      },
      {
       "output_type": "stream",
       "stream": "stdout",
       "text": [
        " /raid/jhamman/RASM_results/r35RB1a/hourly_Qflux/hourly_Qflux/r35RB1a.vic.hi.1990.nc expecting to comibin 8760 files\n",
        "done with "
       ]
      },
      {
       "output_type": "stream",
       "stream": "stdout",
       "text": [
        " 1990\n",
        "starting"
       ]
      },
      {
       "output_type": "stream",
       "stream": "stdout",
       "text": [
        " /raid/jhamman/RASM_results/r35RB1a/hourly_Qflux/hourly_Qflux/r35RB1a.vic.hi.1991.nc expecting to comibin 8760 files\n",
        "done with "
       ]
      },
      {
       "output_type": "stream",
       "stream": "stdout",
       "text": [
        " 1991\n",
        "starting"
       ]
      },
      {
       "output_type": "stream",
       "stream": "stdout",
       "text": [
        " /raid/jhamman/RASM_results/r35RB1a/hourly_Qflux/hourly_Qflux/r35RB1a.vic.hi.1992.nc expecting to comibin 8760 files\n",
        "done with "
       ]
      },
      {
       "output_type": "stream",
       "stream": "stdout",
       "text": [
        " 1992\n",
        "starting"
       ]
      },
      {
       "output_type": "stream",
       "stream": "stdout",
       "text": [
        " /raid/jhamman/RASM_results/r35RB1a/hourly_Qflux/hourly_Qflux/r35RB1a.vic.hi.1993.nc expecting to comibin 8760 files\n",
        "done with "
       ]
      },
      {
       "output_type": "stream",
       "stream": "stdout",
       "text": [
        " 1993\n",
        "starting"
       ]
      },
      {
       "output_type": "stream",
       "stream": "stdout",
       "text": [
        " /raid/jhamman/RASM_results/r35RB1a/hourly_Qflux/hourly_Qflux/r35RB1a.vic.hi.1994.nc expecting to comibin 8760 files\n",
        "done with "
       ]
      },
      {
       "output_type": "stream",
       "stream": "stdout",
       "text": [
        " 1994\n",
        "starting"
       ]
      },
      {
       "output_type": "stream",
       "stream": "stdout",
       "text": [
        " /raid/jhamman/RASM_results/r35RB1a/hourly_Qflux/hourly_Qflux/r35RB1a.vic.hi.1995.nc expecting to comibin 8760 files\n",
        "done with "
       ]
      },
      {
       "output_type": "stream",
       "stream": "stdout",
       "text": [
        " 1995\n",
        "starting"
       ]
      },
      {
       "output_type": "stream",
       "stream": "stdout",
       "text": [
        " /raid/jhamman/RASM_results/r35RB1a/hourly_Qflux/hourly_Qflux/r35RB1a.vic.hi.1996.nc expecting to comibin 8760 files\n",
        "done with "
       ]
      },
      {
       "output_type": "stream",
       "stream": "stdout",
       "text": [
        " 1996\n",
        "starting"
       ]
      },
      {
       "output_type": "stream",
       "stream": "stdout",
       "text": [
        " /raid/jhamman/RASM_results/r35RB1a/hourly_Qflux/hourly_Qflux/r35RB1a.vic.hi.1997.nc expecting to comibin 8760 files\n",
        "done with "
       ]
      },
      {
       "output_type": "stream",
       "stream": "stdout",
       "text": [
        " 1997\n",
        "starting"
       ]
      },
      {
       "output_type": "stream",
       "stream": "stdout",
       "text": [
        " /raid/jhamman/RASM_results/r35RB1a/hourly_Qflux/hourly_Qflux/r35RB1a.vic.hi.1998.nc expecting to comibin 8760 files\n",
        "done with "
       ]
      },
      {
       "output_type": "stream",
       "stream": "stdout",
       "text": [
        " 1998\n",
        "starting"
       ]
      },
      {
       "output_type": "stream",
       "stream": "stdout",
       "text": [
        " /raid/jhamman/RASM_results/r35RB1a/hourly_Qflux/hourly_Qflux/r35RB1a.vic.hi.1999.nc expecting to comibin 8760 files\n",
        "done with "
       ]
      },
      {
       "output_type": "stream",
       "stream": "stdout",
       "text": [
        " 1999\n",
        "starting"
       ]
      },
      {
       "output_type": "stream",
       "stream": "stdout",
       "text": [
        " /raid/jhamman/RASM_results/r35RB1a/hourly_Qflux/hourly_Qflux/r35RB1a.vic.hi.2000.nc expecting to comibin 8760 files\n",
        "done with "
       ]
      },
      {
       "output_type": "stream",
       "stream": "stdout",
       "text": [
        " 2000\n",
        "starting"
       ]
      },
      {
       "output_type": "stream",
       "stream": "stdout",
       "text": [
        " /raid/jhamman/RASM_results/r35RB1a/hourly_Qflux/hourly_Qflux/r35RB1a.vic.hi.2001.nc expecting to comibin 8760 files\n",
        "done with "
       ]
      },
      {
       "output_type": "stream",
       "stream": "stdout",
       "text": [
        " 2001\n",
        "starting"
       ]
      },
      {
       "output_type": "stream",
       "stream": "stdout",
       "text": [
        " /raid/jhamman/RASM_results/r35RB1a/hourly_Qflux/hourly_Qflux/r35RB1a.vic.hi.2002.nc expecting to comibin 8760 files\n",
        "done with "
       ]
      },
      {
       "output_type": "stream",
       "stream": "stdout",
       "text": [
        " 2002\n",
        "starting"
       ]
      },
      {
       "output_type": "stream",
       "stream": "stdout",
       "text": [
        " /raid/jhamman/RASM_results/r35RB1a/hourly_Qflux/hourly_Qflux/r35RB1a.vic.hi.2003.nc expecting to comibin 8760 files\n",
        "done with "
       ]
      },
      {
       "output_type": "stream",
       "stream": "stdout",
       "text": [
        " 2003\n",
        "starting"
       ]
      },
      {
       "output_type": "stream",
       "stream": "stdout",
       "text": [
        " /raid/jhamman/RASM_results/r35RB1a/hourly_Qflux/hourly_Qflux/r35RB1a.vic.hi.2004.nc expecting to comibin 8760 files\n",
        "done with "
       ]
      },
      {
       "output_type": "stream",
       "stream": "stdout",
       "text": [
        " 2004\n"
       ]
      }
     ],
     "prompt_number": 110
    },
    {
     "cell_type": "code",
     "collapsed": false,
     "input": [
      "def write_netcdf(outfile,flux,dates):\n",
      "    f = Dataset(outfile,'w', format='NETCDF4_CLASSIC')\n",
      "    \n",
      "    # set dimensions\n",
      "    time = f.createDimension('time', None)\n",
      "    y = f.createDimension('y', flux.shape[1])\n",
      "    x = f.createDimension('x', flux.shape[2])\n",
      "    \n",
      "    # initialize variables\n",
      "    time = f.createVariable('time','f8',('time',))\n",
      "    fluxes = f.createVariable('flux','f8',('time','y','x',),fill_value=1.e+30)\n",
      "    \n",
      "    # write attributes for netcdf\n",
      "    f.title = os.path.split(outfile)\n",
      "    f.institution = \"U.W.\" \n",
      "    f.source = \"RACM r35RB1a\" \n",
      "    f.history = 'Created: {}\\n'.format(tm.ctime(tm.time()))\n",
      "    f.history += ' '.join(sys.argv) + '\\n'\n",
      "    f.source = sys.argv[0] # prints the name of script used\n",
      "    time.units = \"days since 0000-1-1 0:0:0\"\n",
      "    time.long_name = \"time\"\n",
      "    time.calendar = \"noleap\"\n",
      "    time.type_preferred = \"int\"\n",
      "    \n",
      "    fluxes.units = \"mm\"\n",
      "    fluxes.long_name = \"Total daily water flux from gridcell\"\n",
      "    fluxes.coordinates = \"latitude longitude\"\n",
      "    fluxes.type_preferred = \"float\"\n",
      "    fluxes.time_rep = \"instantaneous\"\n",
      "\n",
      "    # write data to variables initialized above\n",
      "    time[:]= dates\n",
      "    fluxes[:,:,:] = flux\n",
      "    f.close()\n"
     ],
     "language": "python",
     "metadata": {},
     "outputs": [],
     "prompt_number": 109
    }
   ],
   "metadata": {}
  }
 ]
}