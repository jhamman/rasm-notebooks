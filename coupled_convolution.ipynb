{
 "metadata": {
  "name": "coupled_convolution"
 },
 "nbformat": 3,
 "nbformat_minor": 0,
 "worksheets": [
  {
   "cells": [
    {
     "cell_type": "code",
     "collapsed": false,
     "input": [
      "from netCDF4 import Dataset, num2date, date2num\n",
      "import numpy as np\n",
      "re = 6.37122e6\n",
      "\n"
     ],
     "language": "python",
     "metadata": {},
     "outputs": [],
     "prompt_number": 5
    },
    {
     "cell_type": "code",
     "collapsed": false,
     "input": [
      "def read_netcdf(ncFile,vars = [],coords = False, verbose = False):\n",
      "    \"\"\"\n",
      "    Read data from input netCDF. Will read all variables if none provided.\n",
      "    Will also return all variable attributes.\n",
      "    Both variables (data and attributes) are returned as dictionaries named by variable\n",
      "    \"\"\"\n",
      "    #if verbose: print 'Reading input data vars:', vars, ', from file:',ncFile\n",
      "    f = Dataset(ncFile,'r')\n",
      "    if vars==[]: vars = f.variables.keys()\n",
      "    d={}\n",
      "    a={}\n",
      "    if coords:\n",
      "        if isinstance(vars,str):\n",
      "            d[vars] = f.variables[vars][coords]\n",
      "            a[vars] = f.variables[vars].__dict__\n",
      "        else:\n",
      "            for var in vars:\n",
      "                d[var] = f.variables[var][coords]\n",
      "                a[var] = f.variables[var].__dict__\n",
      "    else:\n",
      "        if isinstance(vars,str):\n",
      "            d[vars] = f.variables[vars][:]\n",
      "            a[vars] = f.variables[vars].__dict__\n",
      "        else:\n",
      "            for var in vars:\n",
      "                d[var] = f.variables[var][:]\n",
      "                a[var] = f.variables[var].__dict__\n",
      "    f.close()\n",
      "    return d,a"
     ],
     "language": "python",
     "metadata": {},
     "outputs": [],
     "prompt_number": 3
    },
    {
     "cell_type": "code",
     "collapsed": false,
     "input": [
      "gridFile = '/raid/jhamman/RASM_masks/domain.lnd.wr50a_ar9v4.100920.nc'\n",
      "\n",
      "GridData,GridAttrs = read_netcdf(gridFile)\n",
      "\n",
      "area = GridData['area']*re*re #*4/3*np.pi*re*re"
     ],
     "language": "python",
     "metadata": {},
     "outputs": [],
     "prompt_number": 4
    },
    {
     "cell_type": "code",
     "collapsed": false,
     "input": [
      "uhPath = \"/raid/jhamman/temp_uh_files/temp/diagnosis/may7/flat/*\"\n",
      "\n",
      "#Get a list of points to route to\n",
      "pointlist = sorted(glob.glob(uhPath))\n",
      "point_dict = {}\n",
      "for uh_file in pointlist:\n",
      "    d = {}\n",
      "    f=Dataset(uh_file,'r')\n",
      "    d['uh']=f.variables['unit_hydrograph'][:]\n",
      "    d['frac']=f.variables['fraction'][:]\n",
      "    d['xi'] = f.variables['xi'][:]\n",
      "    d['yi'] = f.variables['yi'][:]\n",
      "    d['ring'] = np.zeros(len(d['uh']))\n",
      "    d['state'] = np.zeros(len(d['uh']))\n",
      "    d['sflow'] = []\n",
      "    \n",
      "    f.close()\n",
      "    point_dict[uh_file]=d\n",
      "    \n",
      "    "
     ],
     "language": "python",
     "metadata": {},
     "outputs": [],
     "prompt_number": 94
    },
    {
     "cell_type": "code",
     "collapsed": false,
     "input": [
      "import glob\n",
      "\n",
      "flux_dir = \"/raid/jhamman/RASM_results/r35RB1a/hourly_Qflux/hourly_Qflux/\"\n",
      "flux_files=sorted(glob.glob(flux_dir+\"*\"))"
     ],
     "language": "python",
     "metadata": {},
     "outputs": [],
     "prompt_number": 120
    },
    {
     "cell_type": "code",
     "collapsed": false,
     "input": [
      "\n",
      "now = 0; end = len(d['uh'])-1\n",
      "for i,ff in enumerate(flux_files):\n",
      "    f=Dataset(ff,'r')\n",
      "    flux=f.variables['Runoff'][:]+f.variables['Baseflow'][:]\n",
      "    f.close()\n",
      "    #insert loop over points here\n",
      "    for point,d in point_dict.iteritems():\n",
      "        yi=d['yi']; xi=d['xi']\n",
      "        #Get the convolved hydrograph from the flux\n",
      "        flow = (flux[:,yi,xi]*d['frac']*d['uh']*area[yi,xi]).sum(axis=1)\n",
      "        #Put the hydrograph into the ring\n",
      "        d['ring'][now:] += flow[:len(d['ring'][now:])]\n",
      "        d['ring'][:now] += flow[len(d['ring'][now:]):]\n",
      "        #Store the streamflow for this timestep\n",
      "        d['sflow'].append(d['ring'][now])\n",
      "        #Set the current ring value to 0\n",
      "        d['ring'][now]=0\n",
      "        #get the current state from the ring\n",
      "        d['state'][:len(d['ring'][now:])]=d['ring'][now:]\n",
      "        d['state'][len(d['ring'][now:]):]=d['ring'][:now]\n",
      "    # move to next timestep\n",
      "    if now==end:\n",
      "        now=0\n",
      "    else:\n",
      "        now+=1"
     ],
     "language": "python",
     "metadata": {},
     "outputs": [],
     "prompt_number": "*"
    },
    {
     "cell_type": "code",
     "collapsed": false,
     "input": [
      "for point,d in point_dict.iteritems():\n",
      "    plot(d['sflow'])"
     ],
     "language": "python",
     "metadata": {},
     "outputs": [],
     "prompt_number": "*"
    }
   ],
   "metadata": {}
  }
 ]
}